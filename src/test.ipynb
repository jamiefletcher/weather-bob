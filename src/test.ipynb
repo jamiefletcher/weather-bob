{
 "cells": [
  {
   "cell_type": "code",
   "execution_count": 1,
   "metadata": {},
   "outputs": [],
   "source": [
    "import json\n",
    "\n",
    "import openai\n",
    "from dotenv import load_dotenv"
   ]
  },
  {
   "cell_type": "markdown",
   "metadata": {},
   "source": [
    "# OpenAI"
   ]
  },
  {
   "cell_type": "code",
   "execution_count": 3,
   "metadata": {},
   "outputs": [],
   "source": [
    "def list_models(client):\n",
    "    for m in client.models.list():\n",
    "        print(m.id)"
   ]
  },
  {
   "cell_type": "code",
   "execution_count": 2,
   "metadata": {},
   "outputs": [],
   "source": [
    "load_dotenv() # OpenAI API Key is stored in an environment variable\n",
    "openai_client = openai.OpenAI()"
   ]
  },
  {
   "cell_type": "code",
   "execution_count": 4,
   "metadata": {},
   "outputs": [
    {
     "name": "stdout",
     "output_type": "stream",
     "text": [
      "gpt-4o-mini-audio-preview\n",
      "gpt-4o-mini-audio-preview-2024-12-17\n",
      "gpt-4o-mini-realtime-preview\n",
      "dall-e-2\n",
      "gpt-4o-2024-08-06\n",
      "gpt-4o\n",
      "o1-mini-2024-09-12\n",
      "o1-preview-2024-09-12\n",
      "o1-mini\n",
      "gpt-4o-2024-11-20\n",
      "o1-preview\n",
      "whisper-1\n",
      "dall-e-3\n",
      "gpt-4-turbo\n",
      "gpt-4o-audio-preview\n",
      "gpt-4o-audio-preview-2024-10-01\n",
      "chatgpt-4o-latest\n",
      "babbage-002\n",
      "omni-moderation-latest\n",
      "omni-moderation-2024-09-26\n",
      "tts-1-hd-1106\n",
      "gpt-4o-2024-05-13\n",
      "tts-1-hd\n",
      "gpt-4o-mini-2024-07-18\n",
      "gpt-4o-mini\n",
      "gpt-4-turbo-2024-04-09\n",
      "gpt-4-0613\n",
      "tts-1\n",
      "gpt-3.5-turbo-16k\n",
      "tts-1-1106\n",
      "davinci-002\n",
      "gpt-4-turbo-preview\n",
      "gpt-3.5-turbo-1106\n",
      "gpt-4o-mini-realtime-preview-2024-12-17\n",
      "gpt-3.5-turbo-instruct\n",
      "gpt-4\n",
      "gpt-4o-realtime-preview-2024-10-01\n",
      "gpt-3.5-turbo-instruct-0914\n",
      "gpt-3.5-turbo-0125\n",
      "gpt-4o-audio-preview-2024-12-17\n",
      "gpt-4o-realtime-preview-2024-12-17\n",
      "gpt-3.5-turbo\n",
      "text-embedding-3-large\n",
      "gpt-4o-realtime-preview\n",
      "text-embedding-3-small\n",
      "gpt-4-0125-preview\n",
      "text-embedding-ada-002\n",
      "gpt-4-1106-preview\n"
     ]
    }
   ],
   "source": [
    "list_models(openai_client)"
   ]
  },
  {
   "cell_type": "code",
   "execution_count": null,
   "metadata": {},
   "outputs": [],
   "source": []
  }
 ],
 "metadata": {
  "kernelspec": {
   "display_name": ".venv",
   "language": "python",
   "name": "python3"
  },
  "language_info": {
   "codemirror_mode": {
    "name": "ipython",
    "version": 3
   },
   "file_extension": ".py",
   "mimetype": "text/x-python",
   "name": "python",
   "nbconvert_exporter": "python",
   "pygments_lexer": "ipython3",
   "version": "3.11.2"
  }
 },
 "nbformat": 4,
 "nbformat_minor": 2
}
