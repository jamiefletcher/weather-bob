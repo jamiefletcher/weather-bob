{
 "cells": [
  {
   "cell_type": "code",
   "execution_count": 1,
   "metadata": {},
   "outputs": [],
   "source": [
    "import json\n",
    "\n",
    "import openai\n",
    "from dotenv import load_dotenv"
   ]
  },
  {
   "cell_type": "markdown",
   "metadata": {},
   "source": [
    "# OpenAI"
   ]
  },
  {
   "cell_type": "code",
   "execution_count": 9,
   "metadata": {},
   "outputs": [],
   "source": [
    "def list_models(client):\n",
    "    for m in client.models.list():\n",
    "        print(m.id)\n",
    "\n",
    "def gpt_weather_rpt(client: openai.OpenAI, model: str, messages: list, max_tokens: int):\n",
    "    response = client.chat.completions.create(\n",
    "        model=model,\n",
    "        messages=messages,\n",
    "        response_format={\"type\": \"json_object\"},\n",
    "        max_tokens=max_tokens\n",
    "    )\n",
    "    weather_report = \"\"\n",
    "    if response.choices[0].finish_reason == \"stop\":\n",
    "        weather_report = response.choices[0].message.content\n",
    "    return weather_report"
   ]
  },
  {
   "cell_type": "code",
   "execution_count": 2,
   "metadata": {},
   "outputs": [],
   "source": [
    "load_dotenv() # OpenAI API Key is stored in an environment variable\n",
    "openai_client = openai.OpenAI()"
   ]
  },
  {
   "cell_type": "code",
   "execution_count": 5,
   "metadata": {},
   "outputs": [
    {
     "name": "stdout",
     "output_type": "stream",
     "text": [
      "gpt-4o-mini-audio-preview\n",
      "gpt-4o-mini-audio-preview-2024-12-17\n",
      "gpt-4o-mini-realtime-preview\n",
      "dall-e-2\n",
      "gpt-4o-2024-08-06\n",
      "gpt-4o\n",
      "o1-mini-2024-09-12\n",
      "o1-preview-2024-09-12\n",
      "o1-mini\n",
      "gpt-4o-2024-11-20\n",
      "o1-preview\n",
      "whisper-1\n",
      "dall-e-3\n",
      "gpt-4-turbo\n",
      "gpt-4o-audio-preview\n",
      "gpt-4o-audio-preview-2024-10-01\n",
      "babbage-002\n",
      "omni-moderation-latest\n",
      "omni-moderation-2024-09-26\n",
      "tts-1-hd-1106\n",
      "gpt-4o-2024-05-13\n",
      "tts-1-hd\n",
      "gpt-4o-mini-2024-07-18\n",
      "gpt-4o-mini\n",
      "gpt-4-turbo-2024-04-09\n",
      "gpt-4-0613\n",
      "tts-1\n",
      "gpt-3.5-turbo-16k\n",
      "tts-1-1106\n",
      "davinci-002\n",
      "gpt-4-turbo-preview\n",
      "gpt-3.5-turbo-1106\n",
      "gpt-4o-mini-realtime-preview-2024-12-17\n",
      "gpt-3.5-turbo-instruct\n",
      "gpt-4\n",
      "chatgpt-4o-latest\n",
      "gpt-4o-realtime-preview-2024-10-01\n",
      "gpt-3.5-turbo-instruct-0914\n",
      "gpt-3.5-turbo-0125\n",
      "gpt-4o-audio-preview-2024-12-17\n",
      "gpt-4o-realtime-preview-2024-12-17\n",
      "gpt-3.5-turbo\n",
      "text-embedding-3-large\n",
      "gpt-4o-realtime-preview\n",
      "text-embedding-3-small\n",
      "gpt-4-0125-preview\n",
      "text-embedding-ada-002\n",
      "gpt-4-1106-preview\n"
     ]
    }
   ],
   "source": [
    "list_models(openai_client)"
   ]
  },
  {
   "cell_type": "code",
   "execution_count": 6,
   "metadata": {},
   "outputs": [],
   "source": [
    "INSTRUCTIONS = (\n",
    "    \"You are an AI assistant specialized in interpreting and describing weather data stored in METAR format. \"\n",
    "    \"The METAR format is an XML format that standardizes descriptions of observed weather at airports around the world. \"\n",
    "    \"You are expert at reading METAR data for a given location and providing an English description of the weather at that location. \"\n",
    "    \"The English weather description should be in the style of TV weatherman.\"\n",
    ")\n",
    "PROMPT = (\n",
    "    \"Briefly describe the weather for the location identified in the following METAR weather report. \"\n",
    "    \"Format your response as a JSON object with the following key: 'weather_description'. \"\n",
    ")\n",
    "LOC = \"Toronto\"\n",
    "METAR = (\n",
    "    \"\"\"<METAR>\n",
    "      <raw_text>CXTO 041900Z AUTO M03/M11 RMK AO1 SOG 06 1025 SLP250 T10341108</raw_text>\n",
    "      <station_id>CXTO</station_id>\n",
    "      <observation_time>2025-02-04T19:00:00Z</observation_time>\n",
    "      <latitude>43.667</latitude>\n",
    "      <longitude>-79.4</longitude>\n",
    "      <temp_c>-3.4</temp_c>\n",
    "      <dewpoint_c>-10.8</dewpoint_c>\n",
    "      <sea_level_pressure_mb>1025</sea_level_pressure_mb>\n",
    "      <quality_control_flags>\n",
    "        <auto>TRUE</auto>\n",
    "        <auto_station>TRUE</auto_station>\n",
    "      </quality_control_flags>\n",
    "      <flight_category></flight_category>\n",
    "      <metar_type>METAR</metar_type>\n",
    "      <elevation_m>115</elevation_m>\n",
    "    </METAR>\"\"\"\n",
    ")"
   ]
  },
  {
   "cell_type": "code",
   "execution_count": 7,
   "metadata": {},
   "outputs": [],
   "source": [
    "msgs = [{\"role\": \"system\", \"content\": INSTRUCTIONS}]\n",
    "content = [{\"type\": \"text\", \"text\": f\"{PROMPT} \\n\\nLOCATION: {LOC} \\n\\nMETAR: {METAR}\"}]\n",
    "msgs.append({\"role\": \"user\", \"content\": content})"
   ]
  },
  {
   "cell_type": "code",
   "execution_count": 10,
   "metadata": {},
   "outputs": [
    {
     "data": {
      "text/plain": [
       "'{\\n  \"weather_description\": \"Good evening, Toronto! This evening, we have a chilly snapshot of winter with temperatures hovering around minus 3.4 degrees Celsius. A bit of a bite in the air, as the dew point sits at a frosty minus 10.8 degrees. The pressure is steady at 1025 millibars, indicating stable conditions. So, bundle up if you are heading out, and stay warm!\"\\n}'"
      ]
     },
     "execution_count": 10,
     "metadata": {},
     "output_type": "execute_result"
    }
   ],
   "source": [
    "gpt_weather_rpt(\n",
    "    client=openai_client,\n",
    "    model=\"gpt-4o-mini\",\n",
    "    messages=msgs,\n",
    "    max_tokens=1000\n",
    ")"
   ]
  },
  {
   "cell_type": "code",
   "execution_count": null,
   "metadata": {},
   "outputs": [],
   "source": []
  }
 ],
 "metadata": {
  "kernelspec": {
   "display_name": ".venv",
   "language": "python",
   "name": "python3"
  },
  "language_info": {
   "codemirror_mode": {
    "name": "ipython",
    "version": 3
   },
   "file_extension": ".py",
   "mimetype": "text/x-python",
   "name": "python",
   "nbconvert_exporter": "python",
   "pygments_lexer": "ipython3",
   "version": "3.11.2"
  }
 },
 "nbformat": 4,
 "nbformat_minor": 2
}
