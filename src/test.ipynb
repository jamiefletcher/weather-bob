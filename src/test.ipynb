{
 "cells": [
  {
   "cell_type": "code",
   "execution_count": 21,
   "metadata": {},
   "outputs": [],
   "source": [
    "import json\n",
    "import os\n",
    "import urllib.parse\n",
    "import requests\n",
    "\n",
    "import openai\n",
    "from dotenv import load_dotenv"
   ]
  },
  {
   "cell_type": "markdown",
   "metadata": {},
   "source": [
    "# METAR"
   ]
  },
  {
   "cell_type": "code",
   "execution_count": 22,
   "metadata": {},
   "outputs": [],
   "source": [
    "def process_metars(raw_metars, properties):\n",
    "    stations = {}\n",
    "    for weather_report in raw_metars:\n",
    "        station = {}\n",
    "\n",
    "        station_id = weather_report[\"properties\"].get(\"id\")\n",
    "        if station_id not in stations:        \n",
    "            stations[station_id] = station\n",
    "        \n",
    "        for property,feat_name in properties.items():\n",
    "            station[feat_name] = weather_report[\"properties\"].get(property, None)\n",
    "        \n",
    "        station[\"geometry\"] = weather_report.get(\"geometry\", None)\n",
    "        \n",
    "        stations[station_id].update(station)\n",
    "    return stations\n",
    "\n",
    "def download_metars(args, properties, base_url=\"https://aviationweather.gov/api/data/metar\"):\n",
    "    params = urllib.parse.urlencode(args)\n",
    "    url = f\"{base_url}?{params}\"\n",
    "    print(\"Downloading new METARS data from\", url)\n",
    "\n",
    "    resp = requests.get(url)\n",
    "    if resp.status_code != 200:\n",
    "        print(\"Error downloading METARS\", resp.status_code)\n",
    "        return None\n",
    "    metars_json = json.loads(resp.text)\n",
    "    metars = process_metars(metars_json[\"features\"], properties)\n",
    "    return metars"
   ]
  },
  {
   "cell_type": "code",
   "execution_count": null,
   "metadata": {},
   "outputs": [
    {
     "name": "stdout",
     "output_type": "stream",
     "text": [
      "Downloading new METARS data from https://aviationweather.gov/api/data/metar?ids=CYYZ%2COMDB%2CLTFM%2CKLAX%2CWIII&format=geojson&taf=False&hours=1\n"
     ]
    }
   ],
   "source": [
    "station_ids = [\"CYYZ\", \"OMDB\", \"LTFM\", \"KLAX\", \"WIII\"]\n",
    "weather_params = {\n",
    "    \"site\": \"station_name\", \n",
    "    \"obsTime\": \"time_utc\", \n",
    "    \"temp\": \"temperature_c\",\n",
    "    \"dewp\": \"dew_point_c\",\n",
    "    \"wspd\": \"wind_speed_kt\", \n",
    "    \"wdir\": \"wind_direction\", \n",
    "    \"wgst\": \"wind_gust_kt\", \n",
    "    \"cover\": \"cloud_cover\",\n",
    "    \"wx\": \"wx_code\"\n",
    "}\n",
    "args = {\n",
    "    \"ids\": \",\".join(station_ids),\n",
    "    \"format\": \"geojson\",\n",
    "    \"taf\": False,\n",
    "    \"hours\": 1\n",
    "}\n",
    "metars = download_metars(args, weather_params)"
   ]
  },
  {
   "cell_type": "code",
   "execution_count": 24,
   "metadata": {},
   "outputs": [
    {
     "data": {
      "text/plain": [
       "{'CYYZ': {'station_name': 'Toronto/Pearson Intl, ON, CA',\n",
       "  'time_utc': '2025-02-07T18:00:00Z',\n",
       "  'temperature_c': -4,\n",
       "  'dew_point_c': -11,\n",
       "  'wind_speed_kt': 19,\n",
       "  'wind_direction': 270,\n",
       "  'wind_gust_kt': None,\n",
       "  'cloud_cover': 'SCT',\n",
       "  'wx_code': None,\n",
       "  'geometry': {'type': 'Point', 'coordinates': [-79.629, 43.679]}},\n",
       " 'OMDB': {'station_name': 'Dubai Intl, DU, AE',\n",
       "  'time_utc': '2025-02-07T17:30:00Z',\n",
       "  'temperature_c': 24,\n",
       "  'dew_point_c': 16,\n",
       "  'wind_speed_kt': 8,\n",
       "  'wind_direction': 100,\n",
       "  'wind_gust_kt': None,\n",
       "  'cloud_cover': 'CAVOK',\n",
       "  'wx_code': None,\n",
       "  'geometry': {'type': 'Point', 'coordinates': [55.366, 25.254]}},\n",
       " 'LTFM': {'station_name': 'Istanbul Arpt, IS, TR',\n",
       "  'time_utc': '2025-02-07T17:20:00Z',\n",
       "  'temperature_c': 3,\n",
       "  'dew_point_c': 1,\n",
       "  'wind_speed_kt': 22,\n",
       "  'wind_direction': 360,\n",
       "  'wind_gust_kt': None,\n",
       "  'cloud_cover': 'BKN',\n",
       "  'wx_code': '-SHRA',\n",
       "  'geometry': {'type': 'Point', 'coordinates': [28.74, 41.262]}},\n",
       " 'KLAX': {'station_name': 'Los Angeles Intl, CA, US',\n",
       "  'time_utc': '2025-02-07T17:53:00Z',\n",
       "  'temperature_c': 15.6,\n",
       "  'dew_point_c': 13.3,\n",
       "  'wind_speed_kt': 10,\n",
       "  'wind_direction': 260,\n",
       "  'wind_gust_kt': None,\n",
       "  'cloud_cover': 'BKN',\n",
       "  'wx_code': None,\n",
       "  'geometry': {'type': 'Point', 'coordinates': [-118.387, 33.9382]}},\n",
       " 'WIII': {'station_name': 'Jakarta/Hatta Intl, JB, ID',\n",
       "  'time_utc': '2025-02-07T17:30:00Z',\n",
       "  'temperature_c': 25,\n",
       "  'dew_point_c': 24,\n",
       "  'wind_speed_kt': 10,\n",
       "  'wind_direction': 250,\n",
       "  'wind_gust_kt': 22,\n",
       "  'cloud_cover': 'BKN',\n",
       "  'wx_code': '+TSRA',\n",
       "  'geometry': {'type': 'Point', 'coordinates': [106.659, -6.125]}}}"
      ]
     },
     "execution_count": 24,
     "metadata": {},
     "output_type": "execute_result"
    }
   ],
   "source": [
    "metars"
   ]
  },
  {
   "cell_type": "markdown",
   "metadata": {},
   "source": [
    "# OpenAI"
   ]
  },
  {
   "cell_type": "code",
   "execution_count": 25,
   "metadata": {},
   "outputs": [],
   "source": [
    "def list_models(client):\n",
    "    for m in client.models.list():\n",
    "        print(m.id)\n",
    "\n",
    "def gpt_weather_rpt(client: openai.OpenAI, model: str, messages: list, max_tokens: int):\n",
    "    response = client.chat.completions.create(\n",
    "        model=model,\n",
    "        messages=messages,\n",
    "        response_format={\"type\": \"json_object\"},\n",
    "        max_tokens=max_tokens\n",
    "    )\n",
    "    weather_report = \"\"\n",
    "    if response.choices[0].finish_reason == \"stop\":\n",
    "        weather_report = response.choices[0].message.content\n",
    "    return weather_report"
   ]
  },
  {
   "cell_type": "code",
   "execution_count": 26,
   "metadata": {},
   "outputs": [],
   "source": [
    "load_dotenv() # OpenAI API Key is stored in an environment variable\n",
    "openai_client = openai.OpenAI()"
   ]
  },
  {
   "cell_type": "code",
   "execution_count": 27,
   "metadata": {},
   "outputs": [
    {
     "name": "stdout",
     "output_type": "stream",
     "text": [
      "gpt-4o-mini-audio-preview\n",
      "gpt-4o-mini-audio-preview-2024-12-17\n",
      "gpt-4o-mini-realtime-preview\n",
      "dall-e-2\n",
      "o1-mini-2024-09-12\n",
      "o1-preview-2024-09-12\n",
      "o1-mini\n",
      "o1-preview\n",
      "chatgpt-4o-latest\n",
      "whisper-1\n",
      "dall-e-3\n",
      "gpt-4-turbo\n",
      "gpt-4-turbo-preview\n",
      "gpt-4o-audio-preview\n",
      "gpt-4o-audio-preview-2024-10-01\n",
      "babbage-002\n",
      "omni-moderation-latest\n",
      "omni-moderation-2024-09-26\n",
      "tts-1-hd-1106\n",
      "gpt-4o-2024-08-06\n",
      "gpt-4o\n",
      "gpt-4o-2024-05-13\n",
      "tts-1-hd\n",
      "gpt-4o-2024-11-20\n",
      "gpt-4-turbo-2024-04-09\n",
      "tts-1\n",
      "gpt-3.5-turbo-16k\n",
      "tts-1-1106\n",
      "gpt-4o-mini-2024-07-18\n",
      "gpt-4o-mini\n",
      "davinci-002\n",
      "gpt-3.5-turbo-1106\n",
      "gpt-4o-mini-realtime-preview-2024-12-17\n",
      "gpt-3.5-turbo-instruct\n",
      "gpt-4o-realtime-preview-2024-10-01\n",
      "gpt-3.5-turbo-instruct-0914\n",
      "gpt-3.5-turbo-0125\n",
      "gpt-4o-audio-preview-2024-12-17\n",
      "gpt-4o-realtime-preview-2024-12-17\n",
      "gpt-3.5-turbo\n",
      "text-embedding-3-large\n",
      "gpt-4o-realtime-preview\n",
      "text-embedding-3-small\n",
      "gpt-4-0125-preview\n",
      "gpt-4\n",
      "text-embedding-ada-002\n",
      "gpt-4-1106-preview\n",
      "gpt-4-0613\n"
     ]
    }
   ],
   "source": [
    "list_models(openai_client)"
   ]
  },
  {
   "cell_type": "code",
   "execution_count": 28,
   "metadata": {},
   "outputs": [],
   "source": [
    "INSTRUCTIONS = (\n",
    "    \"You are an AI assistant specialized in interpreting and describing weather data stored in JSON format. \"\n",
    "    \"You are expert at reading weather data for a given location and providing an English description of the weather at that location. \"\n",
    "    \"The English weather description should be in the style of TV weatherman.\"\n",
    ")\n",
    "PROMPT = (\n",
    "    \"Briefly describe the weather for the location identified in the following JSON data. \"\n",
    "    \"Format your response as a JSON object with the following key: 'weather_description'. \"\n",
    ")"
   ]
  },
  {
   "cell_type": "code",
   "execution_count": 31,
   "metadata": {},
   "outputs": [],
   "source": [
    "for station_id, weather in metars.items():\n",
    "    msgs = [{\"role\": \"system\", \"content\": INSTRUCTIONS}]\n",
    "    content = [{\"type\": \"text\", \"text\": f\"{PROMPT} \\n\\nWEATHER DATA: {json.dumps(weather)}\"}]\n",
    "    msgs.append({\"role\": \"user\", \"content\": content})\n",
    "\n",
    "    response = gpt_weather_rpt(\n",
    "        client=openai_client,\n",
    "        model=\"gpt-4o-mini\",\n",
    "        messages=msgs,\n",
    "        max_tokens=1000\n",
    "    )\n",
    "    weather.update(json.loads(response))"
   ]
  },
  {
   "cell_type": "code",
   "execution_count": 35,
   "metadata": {},
   "outputs": [],
   "source": [
    "with open(\"../data/metars/current-weather.json\", \"w\") as f:\n",
    "    json.dump(metars, f, indent=4)"
   ]
  },
  {
   "cell_type": "code",
   "execution_count": 32,
   "metadata": {},
   "outputs": [
    {
     "data": {
      "text/plain": [
       "{'CYYZ': {'station_name': 'Toronto/Pearson Intl, ON, CA',\n",
       "  'time_utc': '2025-02-07T18:00:00Z',\n",
       "  'temperature_c': -4,\n",
       "  'dew_point_c': -11,\n",
       "  'wind_speed_kt': 19,\n",
       "  'wind_direction': 270,\n",
       "  'wind_gust_kt': None,\n",
       "  'cloud_cover': 'SCT',\n",
       "  'wx_code': None,\n",
       "  'geometry': {'type': 'Point', 'coordinates': [-79.629, 43.679]},\n",
       "  'weather_description': \"Good evening, Toronto! As we take a look at the weather at Pearson International Airport, we see it's a chilly -4 degrees Celsius. With a dew point of -11, it feels even colder out there. Wind is coming from the west at 19 knots, adding a brisk chill to the air. We've got some scattered clouds dotting the sky, so it might not be completely clear tonight. Bundle up if you're heading outside!\"},\n",
       " 'OMDB': {'station_name': 'Dubai Intl, DU, AE',\n",
       "  'time_utc': '2025-02-07T17:30:00Z',\n",
       "  'temperature_c': 24,\n",
       "  'dew_point_c': 16,\n",
       "  'wind_speed_kt': 8,\n",
       "  'wind_direction': 100,\n",
       "  'wind_gust_kt': None,\n",
       "  'cloud_cover': 'CAVOK',\n",
       "  'wx_code': None,\n",
       "  'geometry': {'type': 'Point', 'coordinates': [55.366, 25.254]},\n",
       "  'weather_description': \"Good evening! Reporting live from Dubai International Airport, where the weather is looking quite pleasant this afternoon. We have a comfortable temperature sitting at a lovely 24 degrees Celsius. With a dew point of 16 degrees, it's a bit humid but nothing too uncomfortable. The winds are coming in from the east at 8 knots, providing a gentle breeze. And here's the good news: the skies are clear with no significant cloud cover, promising a beautiful view. Perfect conditions for any outdoor activity. That's the weather update for Dubai, back to you!\"},\n",
       " 'LTFM': {'station_name': 'Istanbul Arpt, IS, TR',\n",
       "  'time_utc': '2025-02-07T17:20:00Z',\n",
       "  'temperature_c': 3,\n",
       "  'dew_point_c': 1,\n",
       "  'wind_speed_kt': 22,\n",
       "  'wind_direction': 360,\n",
       "  'wind_gust_kt': None,\n",
       "  'cloud_cover': 'BKN',\n",
       "  'wx_code': '-SHRA',\n",
       "  'geometry': {'type': 'Point', 'coordinates': [28.74, 41.262]},\n",
       "  'weather_description': \"Good evening, Istanbul! We're currently looking at chilly weather with temperatures hovering around 3 degrees Celsius. The winds are brisk, coming in from the north at 22 knots, adding a bit of a bite to the air. We're experiencing broken clouds overhead, with light showers in the area, so you might want to grab an umbrella if you're heading out. Stay warm and safe out there!\"},\n",
       " 'KLAX': {'station_name': 'Los Angeles Intl, CA, US',\n",
       "  'time_utc': '2025-02-07T17:53:00Z',\n",
       "  'temperature_c': 15.6,\n",
       "  'dew_point_c': 13.3,\n",
       "  'wind_speed_kt': 10,\n",
       "  'wind_direction': 260,\n",
       "  'wind_gust_kt': None,\n",
       "  'cloud_cover': 'BKN',\n",
       "  'wx_code': None,\n",
       "  'geometry': {'type': 'Point', 'coordinates': [-118.387, 33.9382]},\n",
       "  'weather_description': \"Good afternoon, Los Angeles! As we check out the current weather at LAX, we see that it's a mild 15.6 degrees Celsius with some clouds hanging around. The dew point is comfortable at 13.3 degrees, giving us a bit of humidity in the air. There's a gentle breeze coming in from the west at 10 knots, adding a nice touch to the otherwise overcast sky. Overall, it's a typical cloudy day in our beautiful city. Stay tuned for more updates!\"},\n",
       " 'WIII': {'station_name': 'Jakarta/Hatta Intl, JB, ID',\n",
       "  'time_utc': '2025-02-07T17:30:00Z',\n",
       "  'temperature_c': 25,\n",
       "  'dew_point_c': 24,\n",
       "  'wind_speed_kt': 10,\n",
       "  'wind_direction': 250,\n",
       "  'wind_gust_kt': 22,\n",
       "  'cloud_cover': 'BKN',\n",
       "  'wx_code': '+TSRA',\n",
       "  'geometry': {'type': 'Point', 'coordinates': [106.659, -6.125]},\n",
       "  'weather_description': \"Good evening, Jakarta! We've got a warm evening ahead with temperatures sitting at a comfortable 25 degrees Celsius. Expect a bit of humidity with a dew point close behind at 24 degrees. Winds are picking up from the west-southwest at about 10 knots, with gusts reaching up to 22 knots. There’s also a broken cloud cover, so don’t be surprised if you see occasional breaks in the clouds. And it looks like we’re in for some thunderstorms and rain as well, so keep that umbrella handy if you're heading out. Stay safe and enjoy your evening!\"}}"
      ]
     },
     "execution_count": 32,
     "metadata": {},
     "output_type": "execute_result"
    }
   ],
   "source": [
    "metars"
   ]
  },
  {
   "cell_type": "code",
   "execution_count": null,
   "metadata": {},
   "outputs": [],
   "source": []
  }
 ],
 "metadata": {
  "kernelspec": {
   "display_name": ".venv",
   "language": "python",
   "name": "python3"
  },
  "language_info": {
   "codemirror_mode": {
    "name": "ipython",
    "version": 3
   },
   "file_extension": ".py",
   "mimetype": "text/x-python",
   "name": "python",
   "nbconvert_exporter": "python",
   "pygments_lexer": "ipython3",
   "version": "3.11.2"
  }
 },
 "nbformat": 4,
 "nbformat_minor": 2
}
